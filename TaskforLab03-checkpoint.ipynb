{
 "cells": [
  {
   "cell_type": "code",
   "execution_count": 1,
   "metadata": {
    "collapsed": true
   },
   "outputs": [],
   "source": [
    "import numpy as np\n",
    "import pandas as pd"
   ]
  },
  {
   "cell_type": "code",
   "execution_count": 2,
   "metadata": {
    "collapsed": true
   },
   "outputs": [],
   "source": [
    "x1 = [0, 0, 1, 1]\n",
    "x2 = [0, 1, 0, 1]\n",
    "y = [0, 0, 0, 1]\n",
    "w1 = 0.3\n",
    "w2 = -0.1\n",
    "n = 0.1 # Learning Rate\n",
    "th = 0.2 # Threshold\n",
    "old_weight = []\n",
    "output11 = []\n",
    "new_weight11 = []\n",
    "output22 = []\n",
    "new_weight22 = []\n",
    "main = []"
   ]
  },
  {
   "cell_type": "code",
   "execution_count": 3,
   "metadata": {},
   "outputs": [
    {
     "name": "stdout",
     "output_type": "stream",
     "text": [
      "==================================== Epoch: 1 ====================================\n"
     ]
    },
    {
     "ename": "NameError",
     "evalue": "name 'old_weightw11' is not defined",
     "output_type": "error",
     "traceback": [
      "\u001b[1;31m---------------------------------------------------------------------------\u001b[0m",
      "\u001b[1;31mNameError\u001b[0m                                 Traceback (most recent call last)",
      "\u001b[1;32m<ipython-input-3-c9b8b59694fb>\u001b[0m in \u001b[0;36m<module>\u001b[1;34m()\u001b[0m\n\u001b[0;32m     32\u001b[0m             \u001b[0mold_weightw1\u001b[0m\u001b[1;33m.\u001b[0m\u001b[0mappend\u001b[0m\u001b[1;33m(\u001b[0m\u001b[0mw1\u001b[0m\u001b[1;33m)\u001b[0m\u001b[1;33m\u001b[0m\u001b[0m\n\u001b[0;32m     33\u001b[0m             \u001b[0mold_weightw2\u001b[0m\u001b[1;33m.\u001b[0m\u001b[0mappend\u001b[0m\u001b[1;33m(\u001b[0m\u001b[0mw2\u001b[0m\u001b[1;33m)\u001b[0m\u001b[1;33m\u001b[0m\u001b[0m\n\u001b[1;32m---> 34\u001b[1;33m             \u001b[0mold_weightw11\u001b[0m\u001b[1;33m.\u001b[0m\u001b[0mappend\u001b[0m\u001b[1;33m(\u001b[0m\u001b[0mw1\u001b[0m\u001b[1;33m)\u001b[0m\u001b[1;33m\u001b[0m\u001b[0m\n\u001b[0m\u001b[0;32m     35\u001b[0m             \u001b[0mold_weightw22\u001b[0m\u001b[1;33m.\u001b[0m\u001b[0mappend\u001b[0m\u001b[1;33m(\u001b[0m\u001b[0mw2\u001b[0m\u001b[1;33m)\u001b[0m\u001b[1;33m\u001b[0m\u001b[0m\n\u001b[0;32m     36\u001b[0m \u001b[1;33m\u001b[0m\u001b[0m\n",
      "\u001b[1;31mNameError\u001b[0m: name 'old_weightw11' is not defined"
     ]
    }
   ],
   "source": [
    "for i in range(5):\n",
    "    print('='*36, 'Epoch:', i+1, '='*36)\n",
    "    error = []\n",
    "    old_weightw1 = []\n",
    "    old_weightw2 = []\n",
    "\n",
    "    output = []\n",
    "    new_weightw1 = []\n",
    "    new_weightw2 = []\n",
    "\n",
    "    temp = []\n",
    "\n",
    "    for j in range(len(x1)):\n",
    "        y_pred =x1[j] * w1 + x2[j] * w2 # Calculating the Y prediction\n",
    "                                        # h(x) = theta1 * x1 + theta2 * x2\n",
    "        if y_pred < th:\n",
    "            # If the predicted value is lesser than the threshold it will assign 0, else 1\n",
    "            y_pred = 0\n",
    "        else:\n",
    "            y_pred = 1\n",
    "            \n",
    "        cost=y[j]-y_pred # Cost Function\n",
    "        temp.append(y_pred)\n",
    "        error.append(cost)\n",
    "        if temp == y:\n",
    "#             print(w1, w2)\n",
    "            print('Final Result: ')\n",
    "            print( 'Inputs:', x1[j], x2[j],'Outputs:', y[j], 'Old Weight:', old_weightw1[j-1], old_weightw2[j-1], \n",
    "              'Output: ', temp[j], 'Cost:', cost, 'New Weight:', new_weightw1[j-1],  new_weightw2[j-1])\n",
    "            break\n",
    "        else:\n",
    "            old_weightw1.append(w1)\n",
    "            old_weightw2.append(w2)\n",
    "            old_weightw11.append(w1)\n",
    "            old_weightw22.append(w2)\n",
    "\n",
    "            # Updating the weights w1 and w2 \n",
    "            # Rule: Old weight + leraning rate * input * cost\n",
    "            w1 = w1 + n * x1[j] * cost\n",
    "            w1 = float(\"{0:.2f}\".format(w1))\n",
    "            w2 = w2 + n * x2[j] * cost\n",
    "            w2 = float(\"{0:.2f}\".format(w2))\n",
    "            new_weightw1.append(w1)\n",
    "            new_weightw2.append(w2)\n",
    "\n",
    "\n",
    "        print( 'Inputs:', x1[j], x2[j],'Outputs:', y[j], 'Old Weight:', old_weightw1[j], old_weightw2[j], \n",
    "              'Output: ', temp[j], 'Cost:', cost, 'New Weight:', new_weightw1[j],  new_weightw2[j])\n",
    "    main.append([[i]*4 ,x1, x2, y, old_weightw1,old_weightw2, temp, error, new_weightw1,new_weightw2])\n",
    "    "
   ]
  },
  {
   "cell_type": "code",
   "execution_count": null,
   "metadata": {},
   "outputs": [],
   "source": []
  },
  {
   "cell_type": "code",
   "execution_count": null,
   "metadata": {},
   "outputs": [],
   "source": [
    "main1"
   ]
  },
  {
   "cell_type": "code",
   "execution_count": null,
   "metadata": {},
   "outputs": [],
   "source": [
    "# dictt = {}\n",
    "for i in range(5):\n",
    "        for j in range(len(main[1])):\n",
    "#             dictt['Input X1']= main[i][0]\n",
    "#             dictt['Input X2']= main[i][1]\n",
    "            dictt.add({'Input X1': main[i][1]})\n",
    "            dictt.update({'Input X2': main[i][1]})\n",
    "\n",
    "#             print(main[i][j])"
   ]
  },
  {
   "cell_type": "code",
   "execution_count": null,
   "metadata": {},
   "outputs": [],
   "source": [
    "dictt"
   ]
  },
  {
   "cell_type": "code",
   "execution_count": null,
   "metadata": {
    "collapsed": true
   },
   "outputs": [],
   "source": []
  },
  {
   "cell_type": "code",
   "execution_count": null,
   "metadata": {
    "collapsed": true
   },
   "outputs": [],
   "source": []
  },
  {
   "cell_type": "code",
   "execution_count": null,
   "metadata": {},
   "outputs": [],
   "source": [
    "pd.DataFrame(dictt)"
   ]
  },
  {
   "cell_type": "code",
   "execution_count": null,
   "metadata": {
    "collapsed": true
   },
   "outputs": [],
   "source": []
  },
  {
   "cell_type": "code",
   "execution_count": null,
   "metadata": {},
   "outputs": [],
   "source": [
    "main1 = []\n",
    "for i in range(len(main)):\n",
    "    temp = []\n",
    "    print(i)    \n",
    "    for j in range(len(main[1])):\n",
    "        temp.append(main[i][j])\n",
    "    \n",
    "    main1.append(temp)\n",
    "    print(temp)"
   ]
  },
  {
   "cell_type": "code",
   "execution_count": null,
   "metadata": {
    "collapsed": true
   },
   "outputs": [],
   "source": []
  },
  {
   "cell_type": "code",
   "execution_count": null,
   "metadata": {
    "collapsed": true
   },
   "outputs": [],
   "source": []
  },
  {
   "cell_type": "code",
   "execution_count": null,
   "metadata": {
    "collapsed": true
   },
   "outputs": [],
   "source": []
  },
  {
   "cell_type": "code",
   "execution_count": null,
   "metadata": {
    "collapsed": true
   },
   "outputs": [],
   "source": []
  },
  {
   "cell_type": "markdown",
   "metadata": {},
   "source": [
    "## Thank You\n",
    "Shahariar Rabby\n",
    "\n",
    "151 - 15 - 5424"
   ]
  }
 ],
 "metadata": {
  "kernelspec": {
   "display_name": "Python 3",
   "language": "python",
   "name": "python3"
  },
  "language_info": {
   "codemirror_mode": {
    "name": "ipython",
    "version": 3
   },
   "file_extension": ".py",
   "mimetype": "text/x-python",
   "name": "python",
   "nbconvert_exporter": "python",
   "pygments_lexer": "ipython3",
   "version": "3.6.1"
  }
 },
 "nbformat": 4,
 "nbformat_minor": 2
}
