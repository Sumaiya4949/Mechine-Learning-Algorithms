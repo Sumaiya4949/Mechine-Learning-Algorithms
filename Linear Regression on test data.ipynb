{
 "cells": [
  {
   "cell_type": "code",
   "execution_count": 16,
   "metadata": {
    "collapsed": false
   },
   "outputs": [
    {
     "name": "stdout",
     "output_type": "stream",
     "text": [
      "         x           y\n",
      "0     24.0   21.549452\n",
      "1     50.0   47.464463\n",
      "2     15.0   17.218656\n",
      "3     38.0   36.586398\n",
      "4     87.0   87.288984\n",
      "5     36.0   32.463875\n",
      "6     12.0   10.780897\n",
      "7     81.0   80.763399\n",
      "8     25.0   24.612151\n",
      "9      5.0    6.963319\n",
      "10    16.0   11.237573\n",
      "11    16.0   13.532902\n",
      "12    24.0   24.603239\n",
      "13    39.0   39.400500\n",
      "14    54.0   48.437538\n",
      "15    60.0   61.699003\n",
      "16    26.0   26.928324\n",
      "17    73.0   70.405206\n",
      "18    29.0   29.340924\n",
      "19    31.0   25.308952\n",
      "20    68.0   69.029343\n",
      "21    87.0   84.994847\n",
      "22    58.0   57.043103\n",
      "23    54.0   50.592199\n",
      "24    84.0   83.027722\n",
      "25    58.0   57.057527\n",
      "26    49.0   47.958833\n",
      "27    20.0   24.342264\n",
      "28    90.0   94.684883\n",
      "29    48.0   48.039707\n",
      "..     ...         ...\n",
      "670   84.0   82.889358\n",
      "671   64.0   63.613650\n",
      "672   12.0   11.296272\n",
      "673   61.0   60.022749\n",
      "674   75.0   72.603393\n",
      "675   15.0   11.879646\n",
      "676  100.0  100.701274\n",
      "677   43.0   45.124208\n",
      "678   13.0   14.811068\n",
      "679   48.0   48.093680\n",
      "680   45.0   42.291457\n",
      "681   52.0   52.733898\n",
      "682   34.0   36.723970\n",
      "683   30.0   28.645352\n",
      "684   65.0   62.166753\n",
      "685  100.0   95.584595\n",
      "686   67.0   66.043253\n",
      "687   99.0   99.956622\n",
      "688   45.0   46.149420\n",
      "689   87.0   89.137550\n",
      "690   73.0   69.717878\n",
      "691    9.0   12.317366\n",
      "692   81.0   78.202963\n",
      "693   72.0   71.309954\n",
      "694   81.0   81.455447\n",
      "695   58.0   58.595006\n",
      "696   93.0   94.625094\n",
      "697   82.0   88.603770\n",
      "698   66.0   63.648685\n",
      "699   97.0   94.975266\n",
      "\n",
      "[700 rows x 2 columns]\n"
     ]
    }
   ],
   "source": [
    "import numpy as np\n",
    "import matplotlib.pyplot as plt\n",
    "import pandas as pd\n",
    "df = pd.read_csv(\"train.csv\")\n",
    "print(df)\n",
    "x=df['x']\n",
    "y=df['y']"
   ]
  },
  {
   "cell_type": "code",
   "execution_count": 17,
   "metadata": {
    "collapsed": false
   },
   "outputs": [
    {
     "name": "stdout",
     "output_type": "stream",
     "text": [
      "54.98593909881429\n",
      "49.93986917045776\n",
      "3335.424584518539\n",
      "21136.701501578937\n",
      "3023.4534985785144\n",
      "0.03254159494814826\n",
      "48.1505390124606\n"
     ]
    }
   ],
   "source": [
    "\n",
    "m_x = np.mean(x);\n",
    "m_y = np.mean(y);\n",
    "print(m_x)\n",
    "print(m_y)\n",
    "m_xy = np.mean(x*y)\n",
    "print(m_xy)\n",
    "m_xx = np.mean(x**2)\n",
    "print(m_xx)\n",
    "m_x2 = m_x**2\n",
    "print(m_x2)\n",
    "m_optimal = ((m_x*m_y)-m_xy)/(m_x2-m_xx)\n",
    "print(m_optimal)\n",
    "c_optimal = (m_y-(m_optimal*m_x))\n",
    "print(c_optimal)"
   ]
  },
  {
   "cell_type": "code",
   "execution_count": 18,
   "metadata": {
    "collapsed": false
   },
   "outputs": [
    {
     "data": {
      "image/png": "[encoded data removed]",
      "text/plain": [
       "<matplotlib.figure.Figure at 0xf8becf93c8>"
      ]
     },
     "metadata": {},
     "output_type": "display_data"
    }
   ],
   "source": [
    "plt.scatter(x,y)\n",
    "plt.show()"
   ]
  },
  {
   "cell_type": "code",
   "execution_count": 19,
   "metadata": {
    "collapsed": false
   },
   "outputs": [
    {
     "name": "stdout",
     "output_type": "stream",
     "text": [
      "0       24.0\n",
      "1       50.0\n",
      "2       15.0\n",
      "3       38.0\n",
      "4       87.0\n",
      "5       36.0\n",
      "6       12.0\n",
      "7       81.0\n",
      "8       25.0\n",
      "9        5.0\n",
      "10      16.0\n",
      "11      16.0\n",
      "12      24.0\n",
      "13      39.0\n",
      "14      54.0\n",
      "15      60.0\n",
      "16      26.0\n",
      "17      73.0\n",
      "18      29.0\n",
      "19      31.0\n",
      "20      68.0\n",
      "21      87.0\n",
      "22      58.0\n",
      "23      54.0\n",
      "24      84.0\n",
      "25      58.0\n",
      "26      49.0\n",
      "27      20.0\n",
      "28      90.0\n",
      "29      48.0\n",
      "       ...  \n",
      "670     84.0\n",
      "671     64.0\n",
      "672     12.0\n",
      "673     61.0\n",
      "674     75.0\n",
      "675     15.0\n",
      "676    100.0\n",
      "677     43.0\n",
      "678     13.0\n",
      "679     48.0\n",
      "680     45.0\n",
      "681     52.0\n",
      "682     34.0\n",
      "683     30.0\n",
      "684     65.0\n",
      "685    100.0\n",
      "686     67.0\n",
      "687     99.0\n",
      "688     45.0\n",
      "689     87.0\n",
      "690     73.0\n",
      "691      9.0\n",
      "692     81.0\n",
      "693     72.0\n",
      "694     81.0\n",
      "695     58.0\n",
      "696     93.0\n",
      "697     82.0\n",
      "698     66.0\n",
      "699     97.0\n",
      "Name: x, dtype: float64\n"
     ]
    }
   ],
   "source": [
    "y_final = m_optimal * x + c_optimal\n",
    "x_final =((y_final - c_optimal)/m_optimal)\n",
    "print(x_final)"
   ]
  },
  {
   "cell_type": "code",
   "execution_count": 20,
   "metadata": {
    "collapsed": false
   },
   "outputs": [
    {
     "data": {
      "image/png": "[encoded data removed]",
      "text/plain": [
       "<matplotlib.figure.Figure at 0xf8bf11cda0>"
      ]
     },
     "metadata": {},
     "output_type": "display_data"
    }
   ],
   "source": [
    "plt.plot(x_final,y_final)\n",
    "plt.show()"
   ]
  },
  {
   "cell_type": "code",
   "execution_count": null,
   "metadata": {
    "collapsed": true
   },
   "outputs": [],
   "source": []
  }
 ],
 "metadata": {
  "kernelspec": {
   "display_name": "Python 3",
   "language": "python",
   "name": "python3"
  },
  "language_info": {
   "codemirror_mode": {
    "name": "ipython",
    "version": 3
   },
   "file_extension": ".py",
   "mimetype": "text/x-python",
   "name": "python",
   "nbconvert_exporter": "python",
   "pygments_lexer": "ipython3",
   "version": "3.6.0"
  }
 },
 "nbformat": 4,
 "nbformat_minor": 2
}
