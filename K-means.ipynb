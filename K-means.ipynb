{
 "cells": [
  {
   "cell_type": "code",
   "execution_count": 211,
   "metadata": {
    "collapsed": true
   },
   "outputs": [],
   "source": [
    "import numpy as np"
   ]
  },
  {
   "cell_type": "code",
   "execution_count": 212,
   "metadata": {
    "collapsed": true
   },
   "outputs": [],
   "source": [
    "X = np.array([2,2,5,6,5,2.5])\n",
    "Y = np.array([4,3,2,2,2.5,3.5])"
   ]
  },
  {
   "cell_type": "code",
   "execution_count": 213,
   "metadata": {
    "collapsed": true
   },
   "outputs": [],
   "source": [
    "import matplotlib.pyplot as plt\n",
    "%matplotlib inline"
   ]
  },
  {
   "cell_type": "code",
   "execution_count": 214,
   "metadata": {},
   "outputs": [
    {
     "data": {
      "text/plain": [
       "<matplotlib.collections.PathCollection at 0xd87b593c88>"
      ]
     },
     "execution_count": 214,
     "metadata": {},
     "output_type": "execute_result"
    },
    {
     "data": {
      "image/png": "[encoded data removed]",
      "text/plain": [
       "<matplotlib.figure.Figure at 0xd87b5c8be0>"
      ]
     },
     "metadata": {},
     "output_type": "display_data"
    }
   ],
   "source": [
    "plt.scatter(x,y)"
   ]
  },
  {
   "cell_type": "code",
   "execution_count": 215,
   "metadata": {
    "collapsed": true
   },
   "outputs": [],
   "source": [
    "c1 = (2, 4)\n",
    "c2 = (5, 2)\n",
    "c_1 = []\n",
    "c_2 = []"
   ]
  },
  {
   "cell_type": "code",
   "execution_count": 216,
   "metadata": {},
   "outputs": [],
   "source": [
    "def distance(c1, c2, x, y):\n",
    "    for i in range(len(x)):\n",
    "        m = ((c1[0] - x[i])**2 + ( c1[1] - y[i])**2)**.5\n",
    "        n = ((c2[0] - x[i])**2 + ( c2[1] - y[i])**2)**.5\n",
    "        if m < n:\n",
    "            c_1.append([x[i], y[i]])\n",
    "            c1 = (np.mean([s[0] for s in c_1]),\n",
    "                  np.mean([s[1] for s in c_1]))\n",
    "            print(c1)\n",
    "        else:\n",
    "            c_2.append([x[i], y[i]])\n",
    "            c2 = (np.mean([s[0] for s in c_2]) , \n",
    "                  np.mean([s[1] for s in c_2]))\n",
    "            print(c2)\n",
    "    return c1, c2"
   ]
  },
  {
   "cell_type": "code",
   "execution_count": 217,
   "metadata": {},
   "outputs": [
    {
     "name": "stdout",
     "output_type": "stream",
     "text": [
      "(2.0, 4.0)\n",
      "(2.0, 3.5)\n",
      "(5.0, 2.0)\n",
      "(5.5, 2.0)\n",
      "(5.333333333333333, 2.1666666666666665)\n",
      "(2.1666666666666665, 3.5)\n"
     ]
    }
   ],
   "source": [
    "c11, c22 = distance(c1, c2, X, Y)"
   ]
  },
  {
   "cell_type": "code",
   "execution_count": 218,
   "metadata": {},
   "outputs": [
    {
     "data": {
      "image/png": "[encoded data removed]",
      "text/plain": [
       "<matplotlib.figure.Figure at 0xd87b5c87f0>"
      ]
     },
     "metadata": {},
     "output_type": "display_data"
    }
   ],
   "source": [
    "plt.scatter(x,y)\n",
    "plt.scatter(c11[0],c11[1])\n",
    "plt.scatter(c22[0], c22[1])\n",
    "plt.show()"
   ]
  },
  {
   "cell_type": "code",
   "execution_count": null,
   "metadata": {
    "collapsed": true
   },
   "outputs": [],
   "source": []
  }
 ],
 "metadata": {
  "kernelspec": {
   "display_name": "Python 3",
   "language": "python",
   "name": "python3"
  },
  "language_info": {
   "codemirror_mode": {
    "name": "ipython",
    "version": 3
   },
   "file_extension": ".py",
   "mimetype": "text/x-python",
   "name": "python",
   "nbconvert_exporter": "python",
   "pygments_lexer": "ipython3",
   "version": "3.6.3"
  }
 },
 "nbformat": 4,
 "nbformat_minor": 2
}
