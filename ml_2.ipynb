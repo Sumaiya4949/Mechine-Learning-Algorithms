{
 "cells": [
  {
   "cell_type": "code",
   "execution_count": null,
   "metadata": {
    "collapsed": true
   },
   "outputs": [],
   "source": []
  },
  {
   "cell_type": "code",
   "execution_count": 38,
   "metadata": {},
   "outputs": [
    {
     "name": "stdout",
     "output_type": "stream",
     "text": [
      "[0.0]\n",
      "[0.0, 0.0]\n",
      "[0.0, 0.0, -1.0]\n",
      "[0.0, 0.0, -1.0, 0.0]\n",
      "[0.0]\n",
      "[0.0, 0.0]\n",
      "[0.0, 0.0, -1.0]\n",
      "[0.0, 0.0, -1.0, 0.0]\n",
      "[0.0]\n",
      "[0.0, 0.0]\n",
      "[0.0, 0.0, -1.0]\n",
      "[0.0, 0.0, -1.0, 0.0]\n",
      "[0.0]\n",
      "[0.0, 0.0]\n",
      "[0.0, 0.0, -1.0]\n",
      "[0.0, 0.0, -1.0, 0.0]\n",
      "[0.0]\n",
      "[0.0, 0.0]\n",
      "[0.0, 0.0, -1.0]\n",
      "[0.0, 0.0, -1.0, 0.0]\n"
     ]
    },
    {
     "ename": "IndexError",
     "evalue": "list index out of range",
     "output_type": "error",
     "traceback": [
      "\u001b[1;31m---------------------------------------------------------------------------\u001b[0m",
      "\u001b[1;31mIndexError\u001b[0m                                Traceback (most recent call last)",
      "\u001b[1;32m<ipython-input-38-36fdb78157ba>\u001b[0m in \u001b[0;36m<module>\u001b[1;34m()\u001b[0m\n\u001b[0;32m     26\u001b[0m         \u001b[0mprint\u001b[0m\u001b[1;33m(\u001b[0m\u001b[0mCost\u001b[0m \u001b[1;32mis\u001b[0m \u001b[0mminimum\u001b[0m\u001b[1;33m)\u001b[0m\u001b[1;33m\u001b[0m\u001b[0m\n\u001b[0;32m     27\u001b[0m     \u001b[1;32melse\u001b[0m\u001b[1;33m:\u001b[0m\u001b[1;33m\u001b[0m\u001b[0m\n\u001b[1;32m---> 28\u001b[1;33m         \u001b[0mn1\u001b[0m \u001b[1;33m=\u001b[0m \u001b[0mn1\u001b[0m \u001b[1;33m+\u001b[0m \u001b[0mo\u001b[0m \u001b[1;33m*\u001b[0m \u001b[0mx1\u001b[0m\u001b[1;33m[\u001b[0m\u001b[0mi\u001b[0m\u001b[1;33m]\u001b[0m \u001b[1;33m*\u001b[0m \u001b[0mcost\u001b[0m\u001b[1;33m\u001b[0m\u001b[0m\n\u001b[0m\u001b[0;32m     29\u001b[0m         \u001b[0mn2\u001b[0m \u001b[1;33m=\u001b[0m \u001b[0mn2\u001b[0m \u001b[1;33m+\u001b[0m \u001b[0mo\u001b[0m \u001b[1;33m*\u001b[0m \u001b[0mx2\u001b[0m\u001b[1;33m[\u001b[0m\u001b[0mi\u001b[0m\u001b[1;33m]\u001b[0m \u001b[1;33m*\u001b[0m \u001b[0mcost\u001b[0m\u001b[1;33m\u001b[0m\u001b[0m\n\u001b[0;32m     30\u001b[0m \u001b[1;33m\u001b[0m\u001b[0m\n",
      "\u001b[1;31mIndexError\u001b[0m: list index out of range"
     ]
    }
   ],
   "source": [
    "x1 = [0.0,0.0,1.0,1.0]\n",
    "x2 = [0.0,1.0,0.0,1.0]\n",
    "yd = [0.0,0.0,0.0,1.0]\n",
    "n1 = 0.3 \n",
    "n2 = -0.1\n",
    "Th = 0.2\n",
    "o = 0.1\n",
    "for i in range(5):\n",
    "    error = []\n",
    "    for j in range(4):\n",
    "   \n",
    "        h1 = x1[j]*n1 + x2[j]*n2\n",
    "    \n",
    "        if h1 < Th:\n",
    "            h1 = 0\n",
    "       \n",
    "        elif h1 >= Th:\n",
    "            h1 = 1\n",
    "        cost = yd[0] - h1\n",
    "        error.append(cost)\n",
    "        print(error)\n",
    "            \n",
    "     \n",
    "    if error[0] == 0 and error[1] == 0 and error[2] == 0 and error[3] ==0:\n",
    "        print(Cost is minimum)\n",
    "    else:\n",
    "        n1 = n1 + o * x1[i] * cost\n",
    "        n2 = n2 + o * x2[i] * cost\n",
    "        \n",
    "        "
   ]
  },
  {
   "cell_type": "code",
   "execution_count": 19,
   "metadata": {},
   "outputs": [
    {
     "data": {
      "text/plain": [
       "float"
      ]
     },
     "execution_count": 19,
     "metadata": {},
     "output_type": "execute_result"
    }
   ],
   "source": [
    "n1 = 0.3 \n",
    "n2 = -0.1\n",
    "type(n2)"
   ]
  },
  {
   "cell_type": "code",
   "execution_count": null,
   "metadata": {
    "collapsed": true
   },
   "outputs": [],
   "source": []
  }
 ],
 "metadata": {
  "kernelspec": {
   "display_name": "Python 3",
   "language": "python",
   "name": "python3"
  },
  "language_info": {
   "codemirror_mode": {
    "name": "ipython",
    "version": 3
   },
   "file_extension": ".py",
   "mimetype": "text/x-python",
   "name": "python",
   "nbconvert_exporter": "python",
   "pygments_lexer": "ipython3",
   "version": "3.6.3"
  }
 },
 "nbformat": 4,
 "nbformat_minor": 2
}
